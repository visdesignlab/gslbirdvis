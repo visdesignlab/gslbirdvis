{
 "cells": [
  {
   "cell_type": "markdown",
   "metadata": {},
   "source": [
    "Processes the data to plot for the GSL elevation graph. It extracts the earliest elevation value per yar, rather than plotting every value throughout\n",
    "the year. "
   ]
  },
  {
   "cell_type": "code",
   "execution_count": null,
   "metadata": {},
   "outputs": [
    {
     "name": "stdout",
     "output_type": "stream",
     "text": [
      "Processed data saved to processed_elevation_data.txt\n"
     ]
    }
   ],
   "source": [
    "# Function to process the original data and extract the first elevation value per year\n",
    "def process_data(input_file, output_file):\n",
    "    with open(input_file, 'r') as file:\n",
    "        lines = file.readlines()\n",
    "\n",
    "    # Initialize an empty dictionary to store the first elevation value per year\n",
    "    year_elevation_map = {}\n",
    "\n",
    "    for line in lines:\n",
    "        parts = line.strip().split('\\t')  \n",
    "        if len(parts) >= 4:  \n",
    "            date = parts[2]  # The date is at index 2\n",
    "            elevation = float(parts[3])  # The elevation is at index 3\n",
    "            year = date[:4]  # Extract the year from the date (first 4 characters)\n",
    "\n",
    "            # Only store the first elevation value for each year\n",
    "            if year not in year_elevation_map:\n",
    "                year_elevation_map[year] = elevation\n",
    "\n",
    "    # Write the year and elevation pairs to the output file\n",
    "    with open(output_file, 'w') as file:\n",
    "        for year in sorted(year_elevation_map.keys()):\n",
    "            file.write(f\"{year}\\t{year_elevation_map[year]}\\n\")\n",
    "\n",
    "    print(f\"Processed data saved to {output_file}\")\n",
    "\n",
    "input_file = 'C:/Users/u1355/OneDrive/Desktop/Data Viz/Thesis Website/birds/climate_data/gsl_elevation.txt'  \n",
    "output_file = 'processed_elevation_data.txt'  # Output file path\n",
    "\n",
    "# Call the function to process the data\n",
    "process_data(input_file, output_file)\n"
   ]
  }
 ],
 "metadata": {
  "kernelspec": {
   "display_name": "bigdata2024",
   "language": "python",
   "name": "python3"
  },
  "language_info": {
   "codemirror_mode": {
    "name": "ipython",
    "version": 3
   },
   "file_extension": ".py",
   "mimetype": "text/x-python",
   "name": "python",
   "nbconvert_exporter": "python",
   "pygments_lexer": "ipython3",
   "version": "3.11.9"
  }
 },
 "nbformat": 4,
 "nbformat_minor": 2
}
